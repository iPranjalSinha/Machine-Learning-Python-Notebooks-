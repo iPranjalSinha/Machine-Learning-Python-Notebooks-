{
  "nbformat": 4,
  "nbformat_minor": 0,
  "metadata": {
    "colab": {
      "provenance": [],
      "toc_visible": true,
      "authorship_tag": "ABX9TyN4dm6VBAkCd8xc0yvqx2h5",
      "include_colab_link": true
    },
    "kernelspec": {
      "name": "python3",
      "display_name": "Python 3"
    }
  },
  "cells": [
    {
      "cell_type": "markdown",
      "metadata": {
        "id": "view-in-github",
        "colab_type": "text"
      },
      "source": [
        "<a href=\"https://colab.research.google.com/github/iPranjalSinha/Machine-Learning-Python-Notebooks-/blob/main/6_1_Deep_Learning_Artificial_Neural_Networks.ipynb\" target=\"_parent\"><img src=\"https://colab.research.google.com/assets/colab-badge.svg\" alt=\"Open In Colab\"/></a>"
      ]
    },
    {
      "cell_type": "markdown",
      "metadata": {
        "id": "9YTT_lZu7zKO"
      },
      "source": [
        "# **Part 1: Data preprocessing**"
      ]
    },
    {
      "cell_type": "markdown",
      "metadata": {
        "id": "PSGuD1JW8Pb8"
      },
      "source": [
        "## 1.1. Importing the libraries"
      ]
    },
    {
      "cell_type": "code",
      "metadata": {
        "id": "WIShcjjP7kLq"
      },
      "source": [
        "import numpy as np\n",
        "import pandas as pd\n",
        "import tensorflow as tf"
      ],
      "execution_count": null,
      "outputs": []
    },
    {
      "cell_type": "code",
      "metadata": {
        "id": "H8MapDnpARjc",
        "outputId": "4ca4d335-181e-4eea-e090-d095a853d741",
        "colab": {
          "base_uri": "https://localhost:8080/",
          "height": 35
        }
      },
      "source": [
        "tf.__version__"
      ],
      "execution_count": null,
      "outputs": [
        {
          "output_type": "execute_result",
          "data": {
            "application/vnd.google.colaboratory.intrinsic+json": {
              "type": "string"
            },
            "text/plain": [
              "'2.3.0'"
            ]
          },
          "metadata": {
            "tags": []
          },
          "execution_count": 2
        }
      ]
    },
    {
      "cell_type": "markdown",
      "metadata": {
        "id": "DkvC1LTL9cB2"
      },
      "source": [
        "## 1.2. Importing the dataset"
      ]
    },
    {
      "cell_type": "code",
      "metadata": {
        "id": "JbsvrtV09Wsn"
      },
      "source": [
        "dataset = pd.read_csv('Churn_Modelling.csv')"
      ],
      "execution_count": null,
      "outputs": []
    },
    {
      "cell_type": "markdown",
      "metadata": {
        "id": "NF3qEmdF97Un"
      },
      "source": [
        "## 1.3. Exploring the dataset"
      ]
    },
    {
      "cell_type": "code",
      "metadata": {
        "id": "vHOZ2b-r-usl",
        "outputId": "4f2b9f0a-d06c-4857-9678-2dc5cd2ecbd5",
        "colab": {
          "base_uri": "https://localhost:8080/"
        }
      },
      "source": [
        "print(dataset.head())"
      ],
      "execution_count": null,
      "outputs": [
        {
          "output_type": "stream",
          "text": [
            "   RowNumber  CustomerId   Surname  ...  IsActiveMember EstimatedSalary Exited\n",
            "0          1    15634602  Hargrave  ...               1       101348.88      1\n",
            "1          2    15647311      Hill  ...               1       112542.58      0\n",
            "2          3    15619304      Onio  ...               0       113931.57      1\n",
            "3          4    15701354      Boni  ...               0        93826.63      0\n",
            "4          5    15737888  Mitchell  ...               1        79084.10      0\n",
            "\n",
            "[5 rows x 14 columns]\n"
          ],
          "name": "stdout"
        }
      ]
    },
    {
      "cell_type": "code",
      "metadata": {
        "id": "FliNrjwR-z0y",
        "outputId": "d25d98de-c277-47bd-fba4-3e59ec8a76e3",
        "colab": {
          "base_uri": "https://localhost:8080/"
        }
      },
      "source": [
        "print(dataset.shape)"
      ],
      "execution_count": null,
      "outputs": [
        {
          "output_type": "stream",
          "text": [
            "(10000, 14)\n"
          ],
          "name": "stdout"
        }
      ]
    },
    {
      "cell_type": "code",
      "metadata": {
        "id": "6XAMZpMW-_uM",
        "outputId": "1648d45a-55ae-4a58-b1fe-eaac194e8042",
        "colab": {
          "base_uri": "https://localhost:8080/"
        }
      },
      "source": [
        "print(dataset.columns)"
      ],
      "execution_count": null,
      "outputs": [
        {
          "output_type": "stream",
          "text": [
            "Index(['RowNumber', 'CustomerId', 'Surname', 'CreditScore', 'Geography',\n",
            "       'Gender', 'Age', 'Tenure', 'Balance', 'NumOfProducts', 'HasCrCard',\n",
            "       'IsActiveMember', 'EstimatedSalary', 'Exited'],\n",
            "      dtype='object')\n"
          ],
          "name": "stdout"
        }
      ]
    },
    {
      "cell_type": "markdown",
      "metadata": {
        "id": "vwPeH74i_LTV"
      },
      "source": [
        "## 1.4. Identifying independent variables and dependent variables"
      ]
    },
    {
      "cell_type": "code",
      "metadata": {
        "id": "cJDxb7tt_pex"
      },
      "source": [
        "# Independent variable\n",
        "X = dataset.iloc[:, 3:-1].values\n",
        "\n",
        "# Dependent variable\n",
        "y = dataset.iloc[:, -1].values"
      ],
      "execution_count": null,
      "outputs": []
    },
    {
      "cell_type": "markdown",
      "metadata": {
        "id": "_Ygz-_Mg__1c"
      },
      "source": [
        "## 1.5. Handling missing data"
      ]
    },
    {
      "cell_type": "markdown",
      "metadata": {
        "id": "G7bKgr4iAXMI"
      },
      "source": [
        "### 1.5.1. Checking if there is any missing data"
      ]
    },
    {
      "cell_type": "code",
      "metadata": {
        "id": "xZBH9NhrATVF",
        "outputId": "8e29f30d-5be9-482c-e79f-5f235b31f397",
        "colab": {
          "base_uri": "https://localhost:8080/"
        }
      },
      "source": [
        "print(dataset.isnull().values.any())"
      ],
      "execution_count": null,
      "outputs": [
        {
          "output_type": "stream",
          "text": [
            "False\n"
          ],
          "name": "stdout"
        }
      ]
    },
    {
      "cell_type": "markdown",
      "metadata": {
        "id": "7rXJ0bE_AgoR"
      },
      "source": [
        "### 1.5.2. Handling missing data"
      ]
    },
    {
      "cell_type": "code",
      "metadata": {
        "id": "XiGxO9XUAvdc"
      },
      "source": [
        "# from sklearn.impute import SimpleImputer\n",
        "# imputer = SimpleImputer(missing_values=np.nan, strategy='mean')\n",
        "# imputer.fit(X[:, 1:3])\n",
        "# X[:, 1:3] = imputer.transform(X[:, 1:3])"
      ],
      "execution_count": null,
      "outputs": []
    },
    {
      "cell_type": "markdown",
      "metadata": {
        "id": "Pvx7r8LzA6HR"
      },
      "source": [
        "## 1.6. Encoding categorical data"
      ]
    },
    {
      "cell_type": "code",
      "metadata": {
        "id": "kn3riNnm9Q7Z"
      },
      "source": [
        "# Encoding the 'Gender' column\n",
        "from sklearn.preprocessing import LabelEncoder\n",
        "le = LabelEncoder()\n",
        "X[:, 2] = le.fit_transform(X[:, 2])"
      ],
      "execution_count": null,
      "outputs": []
    },
    {
      "cell_type": "code",
      "metadata": {
        "id": "Bdyo4-cZBKn6"
      },
      "source": [
        "# One Hot Encoding the 'Geography' column\n",
        "from sklearn.compose import ColumnTransformer\n",
        "from sklearn.preprocessing import OneHotEncoder\n",
        "ct = ColumnTransformer(transformers=[('encoder', OneHotEncoder(), [1])], remainder='passthrough')\n",
        "X = np.array(ct.fit_transform(X))"
      ],
      "execution_count": null,
      "outputs": []
    },
    {
      "cell_type": "markdown",
      "metadata": {
        "id": "qrAi0WtXBkr6"
      },
      "source": [
        "## 1.7. Splitting the dataset into a training set and test set"
      ]
    },
    {
      "cell_type": "code",
      "metadata": {
        "id": "kg_qQVUTBwJ9"
      },
      "source": [
        "from sklearn.model_selection import train_test_split\n",
        "X_train, X_test, y_train, y_test = train_test_split(X, y, test_size = 0.2, random_state = 1)"
      ],
      "execution_count": null,
      "outputs": []
    },
    {
      "cell_type": "markdown",
      "metadata": {
        "id": "A9M60MH-CB9G"
      },
      "source": [
        "## 1.8. Feature scaling"
      ]
    },
    {
      "cell_type": "code",
      "metadata": {
        "id": "aMguOmLGCJfQ"
      },
      "source": [
        "from sklearn.preprocessing import StandardScaler\n",
        "sc = StandardScaler()\n",
        "X_train = sc.fit_transform(X_train)\n",
        "X_test = sc.transform(X_test)"
      ],
      "execution_count": null,
      "outputs": []
    },
    {
      "cell_type": "markdown",
      "metadata": {
        "id": "tDN2q4psCPDH"
      },
      "source": [
        "# **Part 2: Creating a model**"
      ]
    },
    {
      "cell_type": "markdown",
      "metadata": {
        "id": "knXPmRriCbxX"
      },
      "source": [
        "## 2.1. Building the model"
      ]
    },
    {
      "cell_type": "code",
      "metadata": {
        "id": "LjhIayo_CaO4"
      },
      "source": [
        "# Initializing the model\n",
        "ann = tf.keras.models.Sequential()\n",
        "\n",
        "# Adding the input layer and the first hidden layer\n",
        "ann.add(tf.keras.layers.Dense(units=6, activation='relu'))\n",
        "\n",
        "# Adding the second hidden layer\n",
        "ann.add(tf.keras.layers.Dense(units=6, activation='relu'))\n",
        "\n",
        "# Adding the output layer\n",
        "ann.add(tf.keras.layers.Dense(units=1, activation='sigmoid'))"
      ],
      "execution_count": null,
      "outputs": []
    },
    {
      "cell_type": "markdown",
      "metadata": {
        "id": "LND9NWDeDJzg"
      },
      "source": [
        "## 2.2. Compiling the model"
      ]
    },
    {
      "cell_type": "code",
      "metadata": {
        "id": "5zjwGJPKDNxa"
      },
      "source": [
        "ann.compile(optimizer = 'adam', loss = 'binary_crossentropy', metrics = ['accuracy'])"
      ],
      "execution_count": null,
      "outputs": []
    },
    {
      "cell_type": "markdown",
      "metadata": {
        "id": "rGCVtW3tDY5Q"
      },
      "source": [
        "## 2.3. Training the model on the training set"
      ]
    },
    {
      "cell_type": "code",
      "metadata": {
        "id": "BUwCASc0Dy7p",
        "outputId": "12312d45-e71b-48ea-b4ac-3101816de671",
        "colab": {
          "base_uri": "https://localhost:8080/"
        }
      },
      "source": [
        "ann.fit(X_train, y_train, batch_size = 32, epochs = 100)"
      ],
      "execution_count": null,
      "outputs": [
        {
          "output_type": "stream",
          "text": [
            "Epoch 1/100\n",
            "250/250 [==============================] - 0s 773us/step - loss: 0.5711 - accuracy: 0.7250\n",
            "Epoch 2/100\n",
            "250/250 [==============================] - 0s 922us/step - loss: 0.4683 - accuracy: 0.8052\n",
            "Epoch 3/100\n",
            "250/250 [==============================] - 0s 772us/step - loss: 0.4398 - accuracy: 0.8134\n",
            "Epoch 4/100\n",
            "250/250 [==============================] - 0s 750us/step - loss: 0.4273 - accuracy: 0.8165\n",
            "Epoch 5/100\n",
            "250/250 [==============================] - 0s 783us/step - loss: 0.4209 - accuracy: 0.8199\n",
            "Epoch 6/100\n",
            "250/250 [==============================] - 0s 820us/step - loss: 0.4161 - accuracy: 0.8234\n",
            "Epoch 7/100\n",
            "250/250 [==============================] - 0s 781us/step - loss: 0.4123 - accuracy: 0.8253\n",
            "Epoch 8/100\n",
            "250/250 [==============================] - 0s 771us/step - loss: 0.4089 - accuracy: 0.8270\n",
            "Epoch 9/100\n",
            "250/250 [==============================] - 0s 724us/step - loss: 0.4058 - accuracy: 0.8281\n",
            "Epoch 10/100\n",
            "250/250 [==============================] - 0s 777us/step - loss: 0.4033 - accuracy: 0.8280\n",
            "Epoch 11/100\n",
            "250/250 [==============================] - 0s 773us/step - loss: 0.4006 - accuracy: 0.8294\n",
            "Epoch 12/100\n",
            "250/250 [==============================] - 0s 769us/step - loss: 0.3984 - accuracy: 0.8304\n",
            "Epoch 13/100\n",
            "250/250 [==============================] - 0s 792us/step - loss: 0.3959 - accuracy: 0.8304\n",
            "Epoch 14/100\n",
            "250/250 [==============================] - 0s 736us/step - loss: 0.3935 - accuracy: 0.8305\n",
            "Epoch 15/100\n",
            "250/250 [==============================] - 0s 755us/step - loss: 0.3898 - accuracy: 0.8300\n",
            "Epoch 16/100\n",
            "250/250 [==============================] - 0s 746us/step - loss: 0.3857 - accuracy: 0.8326\n",
            "Epoch 17/100\n",
            "250/250 [==============================] - 0s 740us/step - loss: 0.3817 - accuracy: 0.8342\n",
            "Epoch 18/100\n",
            "250/250 [==============================] - 0s 767us/step - loss: 0.3779 - accuracy: 0.8447\n",
            "Epoch 19/100\n",
            "250/250 [==============================] - 0s 759us/step - loss: 0.3744 - accuracy: 0.8455\n",
            "Epoch 20/100\n",
            "250/250 [==============================] - 0s 746us/step - loss: 0.3704 - accuracy: 0.8503\n",
            "Epoch 21/100\n",
            "250/250 [==============================] - 0s 748us/step - loss: 0.3667 - accuracy: 0.8490\n",
            "Epoch 22/100\n",
            "250/250 [==============================] - 0s 745us/step - loss: 0.3637 - accuracy: 0.8511\n",
            "Epoch 23/100\n",
            "250/250 [==============================] - 0s 779us/step - loss: 0.3601 - accuracy: 0.8524\n",
            "Epoch 24/100\n",
            "250/250 [==============================] - 0s 758us/step - loss: 0.3570 - accuracy: 0.8539\n",
            "Epoch 25/100\n",
            "250/250 [==============================] - 0s 773us/step - loss: 0.3543 - accuracy: 0.8531\n",
            "Epoch 26/100\n",
            "250/250 [==============================] - 0s 745us/step - loss: 0.3524 - accuracy: 0.8543\n",
            "Epoch 27/100\n",
            "250/250 [==============================] - 0s 844us/step - loss: 0.3502 - accuracy: 0.8561\n",
            "Epoch 28/100\n",
            "250/250 [==============================] - 0s 801us/step - loss: 0.3490 - accuracy: 0.8547\n",
            "Epoch 29/100\n",
            "250/250 [==============================] - 0s 771us/step - loss: 0.3474 - accuracy: 0.8556\n",
            "Epoch 30/100\n",
            "250/250 [==============================] - 0s 875us/step - loss: 0.3462 - accuracy: 0.8561\n",
            "Epoch 31/100\n",
            "250/250 [==============================] - 0s 805us/step - loss: 0.3452 - accuracy: 0.8586\n",
            "Epoch 32/100\n",
            "250/250 [==============================] - 0s 827us/step - loss: 0.3443 - accuracy: 0.8574\n",
            "Epoch 33/100\n",
            "250/250 [==============================] - 0s 855us/step - loss: 0.3432 - accuracy: 0.8580\n",
            "Epoch 34/100\n",
            "250/250 [==============================] - 0s 861us/step - loss: 0.3426 - accuracy: 0.8579\n",
            "Epoch 35/100\n",
            "250/250 [==============================] - 0s 869us/step - loss: 0.3413 - accuracy: 0.8584\n",
            "Epoch 36/100\n",
            "250/250 [==============================] - 0s 895us/step - loss: 0.3410 - accuracy: 0.8605\n",
            "Epoch 37/100\n",
            "250/250 [==============================] - 0s 936us/step - loss: 0.3405 - accuracy: 0.8590\n",
            "Epoch 38/100\n",
            "250/250 [==============================] - 0s 869us/step - loss: 0.3401 - accuracy: 0.8593\n",
            "Epoch 39/100\n",
            "250/250 [==============================] - 0s 865us/step - loss: 0.3402 - accuracy: 0.8587\n",
            "Epoch 40/100\n",
            "250/250 [==============================] - 0s 893us/step - loss: 0.3394 - accuracy: 0.8601\n",
            "Epoch 41/100\n",
            "250/250 [==============================] - 0s 866us/step - loss: 0.3390 - accuracy: 0.8605\n",
            "Epoch 42/100\n",
            "250/250 [==============================] - 0s 857us/step - loss: 0.3388 - accuracy: 0.8606\n",
            "Epoch 43/100\n",
            "250/250 [==============================] - 0s 861us/step - loss: 0.3388 - accuracy: 0.8605\n",
            "Epoch 44/100\n",
            "250/250 [==============================] - 0s 867us/step - loss: 0.3381 - accuracy: 0.8585\n",
            "Epoch 45/100\n",
            "250/250 [==============================] - 0s 878us/step - loss: 0.3381 - accuracy: 0.8606\n",
            "Epoch 46/100\n",
            "250/250 [==============================] - 0s 935us/step - loss: 0.3377 - accuracy: 0.8599\n",
            "Epoch 47/100\n",
            "250/250 [==============================] - 0s 937us/step - loss: 0.3378 - accuracy: 0.8602\n",
            "Epoch 48/100\n",
            "250/250 [==============================] - 0s 905us/step - loss: 0.3378 - accuracy: 0.8590\n",
            "Epoch 49/100\n",
            "250/250 [==============================] - 0s 881us/step - loss: 0.3372 - accuracy: 0.8597\n",
            "Epoch 50/100\n",
            "250/250 [==============================] - 0s 909us/step - loss: 0.3372 - accuracy: 0.8600\n",
            "Epoch 51/100\n",
            "250/250 [==============================] - 0s 857us/step - loss: 0.3370 - accuracy: 0.8596\n",
            "Epoch 52/100\n",
            "250/250 [==============================] - 0s 876us/step - loss: 0.3371 - accuracy: 0.8593\n",
            "Epoch 53/100\n",
            "250/250 [==============================] - 0s 852us/step - loss: 0.3369 - accuracy: 0.8596\n",
            "Epoch 54/100\n",
            "250/250 [==============================] - 0s 861us/step - loss: 0.3368 - accuracy: 0.8591\n",
            "Epoch 55/100\n",
            "250/250 [==============================] - 0s 884us/step - loss: 0.3368 - accuracy: 0.8606\n",
            "Epoch 56/100\n",
            "250/250 [==============================] - 0s 853us/step - loss: 0.3365 - accuracy: 0.8594\n",
            "Epoch 57/100\n",
            "250/250 [==============================] - 0s 856us/step - loss: 0.3368 - accuracy: 0.8609\n",
            "Epoch 58/100\n",
            "250/250 [==============================] - 0s 854us/step - loss: 0.3367 - accuracy: 0.8599\n",
            "Epoch 59/100\n",
            "250/250 [==============================] - 0s 875us/step - loss: 0.3362 - accuracy: 0.8600\n",
            "Epoch 60/100\n",
            "250/250 [==============================] - 0s 944us/step - loss: 0.3364 - accuracy: 0.8608\n",
            "Epoch 61/100\n",
            "250/250 [==============================] - 0s 895us/step - loss: 0.3357 - accuracy: 0.8609\n",
            "Epoch 62/100\n",
            "250/250 [==============================] - 0s 840us/step - loss: 0.3363 - accuracy: 0.8616\n",
            "Epoch 63/100\n",
            "250/250 [==============================] - 0s 871us/step - loss: 0.3360 - accuracy: 0.8611\n",
            "Epoch 64/100\n",
            "250/250 [==============================] - 0s 925us/step - loss: 0.3363 - accuracy: 0.8597\n",
            "Epoch 65/100\n",
            "250/250 [==============================] - 0s 777us/step - loss: 0.3360 - accuracy: 0.8615\n",
            "Epoch 66/100\n",
            "250/250 [==============================] - 0s 791us/step - loss: 0.3359 - accuracy: 0.8597\n",
            "Epoch 67/100\n",
            "250/250 [==============================] - 0s 758us/step - loss: 0.3358 - accuracy: 0.8606\n",
            "Epoch 68/100\n",
            "250/250 [==============================] - 0s 762us/step - loss: 0.3360 - accuracy: 0.8605\n",
            "Epoch 69/100\n",
            "250/250 [==============================] - 0s 864us/step - loss: 0.3360 - accuracy: 0.8610\n",
            "Epoch 70/100\n",
            "250/250 [==============================] - 0s 733us/step - loss: 0.3356 - accuracy: 0.8602\n",
            "Epoch 71/100\n",
            "250/250 [==============================] - 0s 776us/step - loss: 0.3362 - accuracy: 0.8604\n",
            "Epoch 72/100\n",
            "250/250 [==============================] - 0s 782us/step - loss: 0.3361 - accuracy: 0.8611\n",
            "Epoch 73/100\n",
            "250/250 [==============================] - 0s 762us/step - loss: 0.3363 - accuracy: 0.8600\n",
            "Epoch 74/100\n",
            "250/250 [==============================] - 0s 828us/step - loss: 0.3357 - accuracy: 0.8597\n",
            "Epoch 75/100\n",
            "250/250 [==============================] - 0s 771us/step - loss: 0.3358 - accuracy: 0.8614\n",
            "Epoch 76/100\n",
            "250/250 [==============================] - 0s 749us/step - loss: 0.3359 - accuracy: 0.8605\n",
            "Epoch 77/100\n",
            "250/250 [==============================] - 0s 769us/step - loss: 0.3358 - accuracy: 0.8612\n",
            "Epoch 78/100\n",
            "250/250 [==============================] - 0s 771us/step - loss: 0.3355 - accuracy: 0.8609\n",
            "Epoch 79/100\n",
            "250/250 [==============================] - 0s 785us/step - loss: 0.3356 - accuracy: 0.8599\n",
            "Epoch 80/100\n",
            "250/250 [==============================] - 0s 748us/step - loss: 0.3358 - accuracy: 0.8614\n",
            "Epoch 81/100\n",
            "250/250 [==============================] - 0s 743us/step - loss: 0.3355 - accuracy: 0.8606\n",
            "Epoch 82/100\n",
            "250/250 [==============================] - 0s 743us/step - loss: 0.3354 - accuracy: 0.8614\n",
            "Epoch 83/100\n",
            "250/250 [==============================] - 0s 879us/step - loss: 0.3353 - accuracy: 0.8601\n",
            "Epoch 84/100\n",
            "250/250 [==============================] - 0s 761us/step - loss: 0.3357 - accuracy: 0.8608\n",
            "Epoch 85/100\n",
            "250/250 [==============================] - 0s 767us/step - loss: 0.3358 - accuracy: 0.8611\n",
            "Epoch 86/100\n",
            "250/250 [==============================] - 0s 764us/step - loss: 0.3355 - accuracy: 0.8616\n",
            "Epoch 87/100\n",
            "250/250 [==============================] - 0s 794us/step - loss: 0.3353 - accuracy: 0.8611\n",
            "Epoch 88/100\n",
            "250/250 [==============================] - 0s 776us/step - loss: 0.3356 - accuracy: 0.8615\n",
            "Epoch 89/100\n",
            "250/250 [==============================] - 0s 775us/step - loss: 0.3352 - accuracy: 0.8612\n",
            "Epoch 90/100\n",
            "250/250 [==============================] - 0s 808us/step - loss: 0.3351 - accuracy: 0.8618\n",
            "Epoch 91/100\n",
            "250/250 [==============================] - 0s 802us/step - loss: 0.3355 - accuracy: 0.8600\n",
            "Epoch 92/100\n",
            "250/250 [==============================] - 0s 800us/step - loss: 0.3352 - accuracy: 0.8610\n",
            "Epoch 93/100\n",
            "250/250 [==============================] - 0s 811us/step - loss: 0.3355 - accuracy: 0.8604\n",
            "Epoch 94/100\n",
            "250/250 [==============================] - 0s 762us/step - loss: 0.3355 - accuracy: 0.8608\n",
            "Epoch 95/100\n",
            "250/250 [==============================] - 0s 857us/step - loss: 0.3356 - accuracy: 0.8612\n",
            "Epoch 96/100\n",
            "250/250 [==============================] - 0s 775us/step - loss: 0.3351 - accuracy: 0.8610\n",
            "Epoch 97/100\n",
            "250/250 [==============================] - 0s 766us/step - loss: 0.3353 - accuracy: 0.8610\n",
            "Epoch 98/100\n",
            "250/250 [==============================] - 0s 780us/step - loss: 0.3352 - accuracy: 0.8606\n",
            "Epoch 99/100\n",
            "250/250 [==============================] - 0s 794us/step - loss: 0.3355 - accuracy: 0.8608\n",
            "Epoch 100/100\n",
            "250/250 [==============================] - 0s 767us/step - loss: 0.3350 - accuracy: 0.8606\n"
          ],
          "name": "stdout"
        },
        {
          "output_type": "execute_result",
          "data": {
            "text/plain": [
              "<tensorflow.python.keras.callbacks.History at 0x7f6e704abfd0>"
            ]
          },
          "metadata": {
            "tags": []
          },
          "execution_count": 16
        }
      ]
    },
    {
      "cell_type": "markdown",
      "metadata": {
        "id": "qP9smpChCpYk"
      },
      "source": [
        "## 2.2. Predicting the test set results"
      ]
    },
    {
      "cell_type": "code",
      "metadata": {
        "id": "IKFjV-n-C05p"
      },
      "source": [
        "y_pred = ann.predict(X_test)\n",
        "y_pred = (y_pred > 0.5)"
      ],
      "execution_count": null,
      "outputs": []
    },
    {
      "cell_type": "code",
      "metadata": {
        "id": "Ho4p5JoyRADK",
        "outputId": "0380caee-db4a-48fe-93e0-da77d7ddb08c",
        "colab": {
          "base_uri": "https://localhost:8080/"
        }
      },
      "source": [
        "np.set_printoptions(precision=2)\n",
        "print(np.concatenate((y_pred.reshape(len(y_pred),1), y_test.reshape(len(y_test),1)),1))"
      ],
      "execution_count": null,
      "outputs": [
        {
          "output_type": "stream",
          "text": [
            "[[0 0]\n",
            " [0 0]\n",
            " [0 0]\n",
            " ...\n",
            " [0 0]\n",
            " [0 0]\n",
            " [0 0]]\n"
          ],
          "name": "stdout"
        }
      ]
    },
    {
      "cell_type": "markdown",
      "metadata": {
        "id": "fNFyJIZaGQwl"
      },
      "source": [
        "## 2.3. Predicting a new result"
      ]
    },
    {
      "cell_type": "code",
      "metadata": {
        "id": "SRpfUeNIGdfr",
        "outputId": "3d4de3f1-8dba-4891-af77-73e6126e761e",
        "colab": {
          "base_uri": "https://localhost:8080/"
        }
      },
      "source": [
        "# Geography: France\n",
        "# Credit Score: 600\n",
        "# Gender: Male\n",
        "# Age: 40 years old\n",
        "# Tenure: 3 years\n",
        "# Balance: $ 60000\n",
        "# Number of Products: 2\n",
        "# Does this customer have a credit card? Yes\n",
        "# Is this customer an Active Member: Yes\n",
        "# Estimated Salary: $ 50000\n",
        "\n",
        "ann.predict(sc.transform([[1, 0, 0, 600, 1, 40, 3, 60000, 2, 1, 1, 50000]])) > 0.5"
      ],
      "execution_count": null,
      "outputs": [
        {
          "output_type": "execute_result",
          "data": {
            "text/plain": [
              "array([[False]])"
            ]
          },
          "metadata": {
            "tags": []
          },
          "execution_count": 19
        }
      ]
    },
    {
      "cell_type": "markdown",
      "metadata": {
        "id": "KAOoWQO8Djvl"
      },
      "source": [
        "# **Part 3: Evaluating model's performance**"
      ]
    },
    {
      "cell_type": "markdown",
      "metadata": {
        "id": "U2Dkp6GIDxXk"
      },
      "source": [
        "## 3.1. Confusion Matrix"
      ]
    },
    {
      "cell_type": "code",
      "metadata": {
        "id": "6h7nBoHtDsF_",
        "outputId": "d126af05-5894-4fdc-a9ec-82ed78b84909",
        "colab": {
          "base_uri": "https://localhost:8080/"
        }
      },
      "source": [
        "from sklearn.metrics import confusion_matrix, accuracy_score\n",
        "cm = confusion_matrix(y_test, y_pred)\n",
        "print(cm)\n",
        "\n",
        "acc = accuracy_score(y_test, y_pred)\n",
        "print(acc)"
      ],
      "execution_count": null,
      "outputs": [
        {
          "output_type": "stream",
          "text": [
            "[[1516   69]\n",
            " [ 211  204]]\n",
            "0.86\n"
          ],
          "name": "stdout"
        }
      ]
    },
    {
      "cell_type": "markdown",
      "metadata": {
        "id": "eWvTp9PVD3l0"
      },
      "source": [
        "## 3.2. R-Squared Score\n"
      ]
    },
    {
      "cell_type": "code",
      "metadata": {
        "id": "qxjHyQ0gD639",
        "outputId": "8a3814d3-3d7d-4fda-a148-96562faecbbc",
        "colab": {
          "base_uri": "https://localhost:8080/"
        }
      },
      "source": [
        "from sklearn.metrics import r2_score\n",
        "r2_score(y_test, y_pred)"
      ],
      "execution_count": null,
      "outputs": [
        {
          "output_type": "execute_result",
          "data": {
            "text/plain": [
              "0.14864505339971856"
            ]
          },
          "metadata": {
            "tags": []
          },
          "execution_count": 21
        }
      ]
    }
  ]
}