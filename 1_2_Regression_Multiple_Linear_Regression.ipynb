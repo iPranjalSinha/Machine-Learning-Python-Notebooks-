{
  "nbformat": 4,
  "nbformat_minor": 0,
  "metadata": {
    "colab": {
      "provenance": [],
      "toc_visible": true,
      "authorship_tag": "ABX9TyMbgyb2V71Bnv1J3ZThdu9c",
      "include_colab_link": true
    },
    "kernelspec": {
      "name": "python3",
      "display_name": "Python 3"
    }
  },
  "cells": [
    {
      "cell_type": "markdown",
      "metadata": {
        "id": "view-in-github",
        "colab_type": "text"
      },
      "source": [
        "<a href=\"https://colab.research.google.com/github/iPranjalSinha/Machine-Learning-Python-Notebooks-/blob/main/1_2_Regression_Multiple_Linear_Regression.ipynb\" target=\"_parent\"><img src=\"https://colab.research.google.com/assets/colab-badge.svg\" alt=\"Open In Colab\"/></a>"
      ]
    },
    {
      "cell_type": "markdown",
      "metadata": {
        "id": "9YTT_lZu7zKO"
      },
      "source": [
        "# **Part 1: Data preprocessing**"
      ]
    },
    {
      "cell_type": "markdown",
      "metadata": {
        "id": "PSGuD1JW8Pb8"
      },
      "source": [
        "## 1.1. Importing the libraries"
      ]
    },
    {
      "cell_type": "code",
      "metadata": {
        "id": "WIShcjjP7kLq"
      },
      "source": [
        "import numpy as np\n",
        "import matplotlib.pyplot as plt\n",
        "import pandas as pd"
      ],
      "execution_count": null,
      "outputs": []
    },
    {
      "cell_type": "markdown",
      "metadata": {
        "id": "DkvC1LTL9cB2"
      },
      "source": [
        "## 1.2. Importing the dataset"
      ]
    },
    {
      "cell_type": "code",
      "metadata": {
        "id": "JbsvrtV09Wsn"
      },
      "source": [
        "dataset = pd.read_csv(\"50_Startups.csv\")"
      ],
      "execution_count": null,
      "outputs": []
    },
    {
      "cell_type": "markdown",
      "metadata": {
        "id": "NF3qEmdF97Un"
      },
      "source": [
        "## 1.3. Exploring the dataset"
      ]
    },
    {
      "cell_type": "code",
      "metadata": {
        "id": "vHOZ2b-r-usl",
        "outputId": "564d971e-981d-419e-d2c7-0283737443d7",
        "colab": {
          "base_uri": "https://localhost:8080/",
          "height": 119
        }
      },
      "source": [
        "print(dataset.head())"
      ],
      "execution_count": null,
      "outputs": [
        {
          "output_type": "stream",
          "text": [
            "   R&D Spend  Administration  Marketing Spend       State     Profit\n",
            "0  165349.20       136897.80        471784.10    New York  192261.83\n",
            "1  162597.70       151377.59        443898.53  California  191792.06\n",
            "2  153441.51       101145.55        407934.54     Florida  191050.39\n",
            "3  144372.41       118671.85        383199.62    New York  182901.99\n",
            "4  142107.34        91391.77        366168.42     Florida  166187.94\n"
          ],
          "name": "stdout"
        }
      ]
    },
    {
      "cell_type": "code",
      "metadata": {
        "id": "FliNrjwR-z0y",
        "outputId": "4ef5a4d3-af5e-433c-f048-bca027adfe9d",
        "colab": {
          "base_uri": "https://localhost:8080/",
          "height": 34
        }
      },
      "source": [
        "print(dataset.shape)"
      ],
      "execution_count": null,
      "outputs": [
        {
          "output_type": "stream",
          "text": [
            "(50, 5)\n"
          ],
          "name": "stdout"
        }
      ]
    },
    {
      "cell_type": "code",
      "metadata": {
        "id": "6XAMZpMW-_uM",
        "outputId": "559cda8b-2f0e-447f-9dd5-67bd7769ac6b",
        "colab": {
          "base_uri": "https://localhost:8080/",
          "height": 34
        }
      },
      "source": [
        "print(dataset.columns)"
      ],
      "execution_count": null,
      "outputs": [
        {
          "output_type": "stream",
          "text": [
            "Index(['R&D Spend', 'Administration', 'Marketing Spend', 'State', 'Profit'], dtype='object')\n"
          ],
          "name": "stdout"
        }
      ]
    },
    {
      "cell_type": "markdown",
      "metadata": {
        "id": "vwPeH74i_LTV"
      },
      "source": [
        "## 1.4. Identifying independent variables and dependent variables"
      ]
    },
    {
      "cell_type": "code",
      "metadata": {
        "id": "cJDxb7tt_pex"
      },
      "source": [
        "# Independent variable\n",
        "X = dataset.iloc[:, :-1].values\n",
        "\n",
        "# Dependent variable\n",
        "y = dataset.iloc[:, -1].values"
      ],
      "execution_count": null,
      "outputs": []
    },
    {
      "cell_type": "markdown",
      "metadata": {
        "id": "_Ygz-_Mg__1c"
      },
      "source": [
        "## 1.5. Handling missing data"
      ]
    },
    {
      "cell_type": "markdown",
      "metadata": {
        "id": "G7bKgr4iAXMI"
      },
      "source": [
        "### 1.5.1. Checking if there is any missing data"
      ]
    },
    {
      "cell_type": "code",
      "metadata": {
        "id": "xZBH9NhrATVF",
        "outputId": "5bf7c235-97ca-447e-b48c-3ffc55b62dc2",
        "colab": {
          "base_uri": "https://localhost:8080/",
          "height": 34
        }
      },
      "source": [
        "print(dataset.isnull().values.any())"
      ],
      "execution_count": null,
      "outputs": [
        {
          "output_type": "stream",
          "text": [
            "False\n"
          ],
          "name": "stdout"
        }
      ]
    },
    {
      "cell_type": "markdown",
      "metadata": {
        "id": "7rXJ0bE_AgoR"
      },
      "source": [
        "### 1.5.2. Handling missing data"
      ]
    },
    {
      "cell_type": "code",
      "metadata": {
        "id": "XiGxO9XUAvdc"
      },
      "source": [
        "# from sklearn.impute import SimpleImputer\n",
        "# imputer = SimpleImputer(missing_values=np.nan, strategy='mean')\n",
        "# imputer.fit(X[:, 1:3])\n",
        "# X[:, 1:3] = imputer.transform(X[:, 1:3])"
      ],
      "execution_count": null,
      "outputs": []
    },
    {
      "cell_type": "markdown",
      "metadata": {
        "id": "Pvx7r8LzA6HR"
      },
      "source": [
        "## 1.6. Encoding categorical data"
      ]
    },
    {
      "cell_type": "code",
      "metadata": {
        "id": "yy_MqcEV9Wp7"
      },
      "source": [
        "# Encoding the independent variable\n",
        "from sklearn.compose import ColumnTransformer\n",
        "from sklearn.preprocessing import OneHotEncoder\n",
        "ct = ColumnTransformer(transformers=[('encoder', OneHotEncoder(), [3])], remainder='passthrough')\n",
        "X = np.array(ct.fit_transform(X))"
      ],
      "execution_count": null,
      "outputs": []
    },
    {
      "cell_type": "code",
      "metadata": {
        "id": "Bdyo4-cZBKn6"
      },
      "source": [
        "# # Encoding the dependent variable\n",
        "# from sklearn.preprocessing import LabelEncoder\n",
        "# le = LabelEncoder()\n",
        "# y = le.fit_transform(y)"
      ],
      "execution_count": null,
      "outputs": []
    },
    {
      "cell_type": "markdown",
      "metadata": {
        "id": "qrAi0WtXBkr6"
      },
      "source": [
        "## 1.7. Splitting the dataset into a training set and test set"
      ]
    },
    {
      "cell_type": "code",
      "metadata": {
        "id": "kg_qQVUTBwJ9"
      },
      "source": [
        "from sklearn.model_selection import train_test_split\n",
        "X_train, X_test, y_train, y_test = train_test_split(X, y, test_size = 0.2, random_state = 1)"
      ],
      "execution_count": null,
      "outputs": []
    },
    {
      "cell_type": "markdown",
      "metadata": {
        "id": "A9M60MH-CB9G"
      },
      "source": [
        "## 1.8. Feature scaling"
      ]
    },
    {
      "cell_type": "code",
      "metadata": {
        "id": "aMguOmLGCJfQ"
      },
      "source": [
        "# from sklearn.preprocessing import StandardScaler\n",
        "# sc = StandardScaler()\n",
        "# X_train[:, 3:] = sc.fit_transform(X_train[:, 3:])\n",
        "# X_test = sc.transform(X_test)"
      ],
      "execution_count": null,
      "outputs": []
    },
    {
      "cell_type": "markdown",
      "metadata": {
        "id": "tDN2q4psCPDH"
      },
      "source": [
        "# **Part 2: Creating a model**"
      ]
    },
    {
      "cell_type": "markdown",
      "metadata": {
        "id": "knXPmRriCbxX"
      },
      "source": [
        "## 2.1. Training the model on the training set"
      ]
    },
    {
      "cell_type": "code",
      "metadata": {
        "id": "LjhIayo_CaO4",
        "outputId": "34ab8c3f-3b02-4424-b93b-63589003c3c3",
        "colab": {
          "base_uri": "https://localhost:8080/",
          "height": 34
        }
      },
      "source": [
        "from sklearn.linear_model import LinearRegression\n",
        "regressor = LinearRegression()\n",
        "regressor.fit(X_train, y_train)"
      ],
      "execution_count": null,
      "outputs": [
        {
          "output_type": "execute_result",
          "data": {
            "text/plain": [
              "LinearRegression(copy_X=True, fit_intercept=True, n_jobs=None, normalize=False)"
            ]
          },
          "metadata": {
            "tags": []
          },
          "execution_count": 13
        }
      ]
    },
    {
      "cell_type": "markdown",
      "metadata": {
        "id": "qP9smpChCpYk"
      },
      "source": [
        "## 2.2. Predicting the test set results"
      ]
    },
    {
      "cell_type": "code",
      "metadata": {
        "id": "IKFjV-n-C05p"
      },
      "source": [
        "y_pred = regressor.predict(X_test)"
      ],
      "execution_count": null,
      "outputs": []
    },
    {
      "cell_type": "code",
      "metadata": {
        "id": "3xVAofdBKckc",
        "outputId": "5214f323-2f16-4047-d680-5604e430fc25",
        "colab": {
          "base_uri": "https://localhost:8080/",
          "height": 187
        }
      },
      "source": [
        "np.set_printoptions(precision=2)\n",
        "print(np.concatenate((y_pred.reshape(len(y_pred),1), y_test.reshape(len(y_test),1)),1))"
      ],
      "execution_count": null,
      "outputs": [
        {
          "output_type": "stream",
          "text": [
            "[[114664.42 105008.31]\n",
            " [ 90593.16  96479.51]\n",
            " [ 75692.84  78239.91]\n",
            " [ 70221.89  81229.06]\n",
            " [179790.26 191050.39]\n",
            " [171576.92 182901.99]\n",
            " [ 49753.59  35673.41]\n",
            " [102276.66 101004.64]\n",
            " [ 58649.38  49490.75]\n",
            " [ 98272.03  97483.56]]\n"
          ],
          "name": "stdout"
        }
      ]
    },
    {
      "cell_type": "markdown",
      "metadata": {
        "id": "NTW-xXKFGj96"
      },
      "source": [
        "## 2.3. Predicting a new result"
      ]
    },
    {
      "cell_type": "code",
      "metadata": {
        "id": "7cOk2iU1GsSn"
      },
      "source": [
        "# regressor.predict([[6.5]])"
      ],
      "execution_count": null,
      "outputs": []
    },
    {
      "cell_type": "markdown",
      "metadata": {
        "id": "KAOoWQO8Djvl"
      },
      "source": [
        "# **Part 3: Evaluating model's performance**"
      ]
    },
    {
      "cell_type": "markdown",
      "metadata": {
        "id": "eWvTp9PVD3l0"
      },
      "source": [
        "## 3.1. R-Squared Score\n"
      ]
    },
    {
      "cell_type": "code",
      "metadata": {
        "id": "qxjHyQ0gD639",
        "outputId": "dfb813b0-e940-453c-8257-5952c3b515fc",
        "colab": {
          "base_uri": "https://localhost:8080/",
          "height": 34
        }
      },
      "source": [
        "from sklearn.metrics import r2_score\n",
        "r2_score(y_test, y_pred)"
      ],
      "execution_count": null,
      "outputs": [
        {
          "output_type": "execute_result",
          "data": {
            "text/plain": [
              "0.9649618042060315"
            ]
          },
          "metadata": {
            "tags": []
          },
          "execution_count": 17
        }
      ]
    }
  ]
}