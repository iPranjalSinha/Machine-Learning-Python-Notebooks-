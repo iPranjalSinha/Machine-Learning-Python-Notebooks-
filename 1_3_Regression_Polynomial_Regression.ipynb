{
  "nbformat": 4,
  "nbformat_minor": 0,
  "metadata": {
    "colab": {
      "provenance": [],
      "toc_visible": true,
      "authorship_tag": "ABX9TyM0xQeBxAIRUj5BPVpmflHJ",
      "include_colab_link": true
    },
    "kernelspec": {
      "name": "python3",
      "display_name": "Python 3"
    }
  },
  "cells": [
    {
      "cell_type": "markdown",
      "metadata": {
        "id": "view-in-github",
        "colab_type": "text"
      },
      "source": [
        "<a href=\"https://colab.research.google.com/github/iPranjalSinha/Machine-Learning-Python-Notebooks-/blob/main/1_3_Regression_Polynomial_Regression.ipynb\" target=\"_parent\"><img src=\"https://colab.research.google.com/assets/colab-badge.svg\" alt=\"Open In Colab\"/></a>"
      ]
    },
    {
      "cell_type": "markdown",
      "metadata": {
        "id": "9YTT_lZu7zKO"
      },
      "source": [
        "# **Part 1: Data preprocessing**"
      ]
    },
    {
      "cell_type": "markdown",
      "metadata": {
        "id": "PSGuD1JW8Pb8"
      },
      "source": [
        "## 1.1. Importing the libraries"
      ]
    },
    {
      "cell_type": "code",
      "metadata": {
        "id": "WIShcjjP7kLq"
      },
      "source": [
        "import numpy as np\n",
        "import matplotlib.pyplot as plt\n",
        "import pandas as pd"
      ],
      "execution_count": null,
      "outputs": []
    },
    {
      "cell_type": "markdown",
      "metadata": {
        "id": "DkvC1LTL9cB2"
      },
      "source": [
        "## 1.2. Importing the dataset"
      ]
    },
    {
      "cell_type": "code",
      "metadata": {
        "id": "JbsvrtV09Wsn"
      },
      "source": [
        "dataset = pd.read_csv(\"Position_Salaries.csv\")"
      ],
      "execution_count": null,
      "outputs": []
    },
    {
      "cell_type": "markdown",
      "metadata": {
        "id": "NF3qEmdF97Un"
      },
      "source": [
        "## 1.3. Exploring the dataset"
      ]
    },
    {
      "cell_type": "code",
      "metadata": {
        "id": "vHOZ2b-r-usl",
        "outputId": "5dfb9dfc-d075-4539-a069-8e2c8585084d",
        "colab": {
          "base_uri": "https://localhost:8080/"
        }
      },
      "source": [
        "print(dataset.head())"
      ],
      "execution_count": null,
      "outputs": [
        {
          "output_type": "stream",
          "text": [
            "            Position  Level  Salary\n",
            "0   Business Analyst      1   45000\n",
            "1  Junior Consultant      2   50000\n",
            "2  Senior Consultant      3   60000\n",
            "3            Manager      4   80000\n",
            "4    Country Manager      5  110000\n"
          ],
          "name": "stdout"
        }
      ]
    },
    {
      "cell_type": "code",
      "metadata": {
        "id": "FliNrjwR-z0y",
        "outputId": "4fafdbaf-ba57-4021-df2b-743ab9e04ef8",
        "colab": {
          "base_uri": "https://localhost:8080/"
        }
      },
      "source": [
        "print(dataset.shape)"
      ],
      "execution_count": null,
      "outputs": [
        {
          "output_type": "stream",
          "text": [
            "(10, 3)\n"
          ],
          "name": "stdout"
        }
      ]
    },
    {
      "cell_type": "code",
      "metadata": {
        "id": "6XAMZpMW-_uM",
        "outputId": "67ba85cf-e7f5-4e56-ab84-bd33f86d3e38",
        "colab": {
          "base_uri": "https://localhost:8080/"
        }
      },
      "source": [
        "print(dataset.columns)"
      ],
      "execution_count": null,
      "outputs": [
        {
          "output_type": "stream",
          "text": [
            "Index(['Position', 'Level', 'Salary'], dtype='object')\n"
          ],
          "name": "stdout"
        }
      ]
    },
    {
      "cell_type": "markdown",
      "metadata": {
        "id": "vwPeH74i_LTV"
      },
      "source": [
        "## 1.4. Identifying independent variables and dependent variables"
      ]
    },
    {
      "cell_type": "code",
      "metadata": {
        "id": "cJDxb7tt_pex"
      },
      "source": [
        "# Independent variable\n",
        "X = dataset.iloc[:, 1:-1].values\n",
        "\n",
        "# Dependent variable\n",
        "y = dataset.iloc[:, -1].values"
      ],
      "execution_count": null,
      "outputs": []
    },
    {
      "cell_type": "markdown",
      "metadata": {
        "id": "_Ygz-_Mg__1c"
      },
      "source": [
        "## 1.5. Handling missing data"
      ]
    },
    {
      "cell_type": "markdown",
      "metadata": {
        "id": "G7bKgr4iAXMI"
      },
      "source": [
        "### 1.5.1. Checking if there is any missing data"
      ]
    },
    {
      "cell_type": "code",
      "metadata": {
        "id": "xZBH9NhrATVF",
        "outputId": "57846729-db84-4fd6-e314-684c82e2abcd",
        "colab": {
          "base_uri": "https://localhost:8080/"
        }
      },
      "source": [
        "print(dataset.isnull().values.any())"
      ],
      "execution_count": null,
      "outputs": [
        {
          "output_type": "stream",
          "text": [
            "False\n"
          ],
          "name": "stdout"
        }
      ]
    },
    {
      "cell_type": "markdown",
      "metadata": {
        "id": "7rXJ0bE_AgoR"
      },
      "source": [
        "### 1.5.2. Handling missing data"
      ]
    },
    {
      "cell_type": "code",
      "metadata": {
        "id": "XiGxO9XUAvdc"
      },
      "source": [
        "# from sklearn.impute import SimpleImputer\n",
        "# imputer = SimpleImputer(missing_values=np.nan, strategy='mean')\n",
        "# imputer.fit(X[:, 1:3])\n",
        "# X[:, 1:3] = imputer.transform(X[:, 1:3])"
      ],
      "execution_count": null,
      "outputs": []
    },
    {
      "cell_type": "markdown",
      "metadata": {
        "id": "Pvx7r8LzA6HR"
      },
      "source": [
        "## 1.6. Encoding categorical data"
      ]
    },
    {
      "cell_type": "code",
      "metadata": {
        "id": "kn3riNnm9Q7Z"
      },
      "source": [
        "# # Encoding the independent variable\n",
        "# from sklearn.compose import ColumnTransformer\n",
        "# from sklearn.preprocessing import OneHotEncoder\n",
        "# ct = ColumnTransformer(transformers=[('encoder', OneHotEncoder(), [0])], remainder='passthrough')\n",
        "# X = np.array(ct.fit_transform(X))"
      ],
      "execution_count": null,
      "outputs": []
    },
    {
      "cell_type": "code",
      "metadata": {
        "id": "Bdyo4-cZBKn6"
      },
      "source": [
        "# # Encoding the dependent variable\n",
        "# from sklearn.preprocessing import LabelEncoder\n",
        "# le = LabelEncoder()\n",
        "# y = le.fit_transform(y)"
      ],
      "execution_count": null,
      "outputs": []
    },
    {
      "cell_type": "markdown",
      "metadata": {
        "id": "qrAi0WtXBkr6"
      },
      "source": [
        "## 1.7. Splitting the dataset into a training set and test set"
      ]
    },
    {
      "cell_type": "code",
      "metadata": {
        "id": "kg_qQVUTBwJ9"
      },
      "source": [
        "# from sklearn.model_selection import train_test_split\n",
        "# X_train, X_test, y_train, y_test = train_test_split(X, y, test_size = 0.2, random_state = 1)"
      ],
      "execution_count": null,
      "outputs": []
    },
    {
      "cell_type": "markdown",
      "metadata": {
        "id": "A9M60MH-CB9G"
      },
      "source": [
        "## 1.8. Feature scaling"
      ]
    },
    {
      "cell_type": "code",
      "metadata": {
        "id": "aMguOmLGCJfQ"
      },
      "source": [
        "# from sklearn.preprocessing import StandardScaler\n",
        "# sc = StandardScaler()\n",
        "# X_train[:, 3:] = sc.fit_transform(X_train[:, 3:])\n",
        "# X_test = sc.transform(X_test)"
      ],
      "execution_count": null,
      "outputs": []
    },
    {
      "cell_type": "markdown",
      "metadata": {
        "id": "tDN2q4psCPDH"
      },
      "source": [
        "# **Part 2: Creating a model**"
      ]
    },
    {
      "cell_type": "markdown",
      "metadata": {
        "id": "knXPmRriCbxX"
      },
      "source": [
        "## 2.1. Training the *Simple Linear Regression* model on the whole dataset"
      ]
    },
    {
      "cell_type": "code",
      "metadata": {
        "id": "LjhIayo_CaO4",
        "outputId": "68d01d1c-5f10-4e94-889b-68e396d89d28",
        "colab": {
          "base_uri": "https://localhost:8080/"
        }
      },
      "source": [
        "from sklearn.linear_model import LinearRegression\n",
        "lin_reg = LinearRegression()\n",
        "lin_reg.fit(X, y)"
      ],
      "execution_count": null,
      "outputs": [
        {
          "output_type": "execute_result",
          "data": {
            "text/plain": [
              "LinearRegression(copy_X=True, fit_intercept=True, n_jobs=None, normalize=False)"
            ]
          },
          "metadata": {
            "tags": []
          },
          "execution_count": 13
        }
      ]
    },
    {
      "cell_type": "markdown",
      "metadata": {
        "id": "IjMdc7egpeUC"
      },
      "source": [
        "## 2.2. Traininng the *Polynomial Regression* model on the whole dataset"
      ]
    },
    {
      "cell_type": "code",
      "metadata": {
        "id": "1-ZpW9MQp2yY",
        "outputId": "1b50ccfb-ea19-439e-bda1-987c33ae30d9",
        "colab": {
          "base_uri": "https://localhost:8080/"
        }
      },
      "source": [
        "from sklearn.preprocessing import PolynomialFeatures\n",
        "poly_reg = PolynomialFeatures(degree = 4)\n",
        "X_poly = poly_reg.fit_transform(X)\n",
        "lin_reg_2 = LinearRegression()\n",
        "lin_reg_2.fit(X_poly, y)"
      ],
      "execution_count": null,
      "outputs": [
        {
          "output_type": "execute_result",
          "data": {
            "text/plain": [
              "LinearRegression(copy_X=True, fit_intercept=True, n_jobs=None, normalize=False)"
            ]
          },
          "metadata": {
            "tags": []
          },
          "execution_count": 14
        }
      ]
    },
    {
      "cell_type": "markdown",
      "metadata": {
        "id": "qP9smpChCpYk"
      },
      "source": [
        "## 2.2. Predicting a new result with *Simple Linear Regression*"
      ]
    },
    {
      "cell_type": "code",
      "metadata": {
        "id": "IKFjV-n-C05p",
        "outputId": "311c58f7-6599-4c13-bf3f-580a21b02dca",
        "colab": {
          "base_uri": "https://localhost:8080/"
        }
      },
      "source": [
        "lin_reg.predict([[6.5]])"
      ],
      "execution_count": null,
      "outputs": [
        {
          "output_type": "execute_result",
          "data": {
            "text/plain": [
              "array([330378.78787879])"
            ]
          },
          "metadata": {
            "tags": []
          },
          "execution_count": 15
        }
      ]
    },
    {
      "cell_type": "markdown",
      "metadata": {
        "id": "xagMMK2rr4TP"
      },
      "source": [
        "## 2.3. Predicting a new result with *Polynomial Regression*"
      ]
    },
    {
      "cell_type": "code",
      "metadata": {
        "id": "D0yPabPZsGAR",
        "outputId": "2d73fc65-af02-43a2-eeb7-93bcbdfa5bf1",
        "colab": {
          "base_uri": "https://localhost:8080/"
        }
      },
      "source": [
        "lin_reg_2.predict(poly_reg.fit_transform([[6.5]]))"
      ],
      "execution_count": null,
      "outputs": [
        {
          "output_type": "execute_result",
          "data": {
            "text/plain": [
              "array([158862.45265155])"
            ]
          },
          "metadata": {
            "tags": []
          },
          "execution_count": 16
        }
      ]
    },
    {
      "cell_type": "markdown",
      "metadata": {
        "id": "OWCzNx4iC2S0"
      },
      "source": [
        "# **Part 3: Visualizing the results**"
      ]
    },
    {
      "cell_type": "markdown",
      "metadata": {
        "id": "YYZURaKKDN2J"
      },
      "source": [
        "## 3.1. Visualizing the *Simple Linear Regression* results"
      ]
    },
    {
      "cell_type": "code",
      "metadata": {
        "id": "9d9-fpp-DcoU",
        "outputId": "81fb263c-ce4b-420b-accd-9d45e21eb276",
        "colab": {
          "base_uri": "https://localhost:8080/",
          "height": 295
        }
      },
      "source": [
        "X_grid = np.arange(min(X), max(X), 0.1)\n",
        "X_grid = X_grid.reshape((len(X_grid), 1))\n",
        "plt.scatter(X, y, color = 'red')\n",
        "plt.plot(X, lin_reg.predict(X), color = 'blue')\n",
        "plt.title('Position vs Salary (Simple Linear Regression)')\n",
        "plt.xlabel('Position')\n",
        "plt.ylabel('Salary')\n",
        "plt.show()"
      ],
      "execution_count": null,
      "outputs": [
        {
          "output_type": "display_data",
          "data": {
            "image/png": "[encoded data removed]",
            "text/plain": [
              "<Figure size 432x288 with 1 Axes>"
            ]
          },
          "metadata": {
            "tags": [],
            "needs_background": "light"
          }
        }
      ]
    },
    {
      "cell_type": "markdown",
      "metadata": {
        "id": "JQz-7bzNDZAo"
      },
      "source": [
        "## 3.2. Visualizing the *Polynomial Regression* results"
      ]
    },
    {
      "cell_type": "code",
      "metadata": {
        "id": "cvXCkOODDJD4",
        "outputId": "910bb2d2-b5f7-4b89-c677-0ece5dfe0857",
        "colab": {
          "base_uri": "https://localhost:8080/",
          "height": 295
        }
      },
      "source": [
        "X_grid = np.arange(min(X), max(X), 0.1)\n",
        "X_grid = X_grid.reshape((len(X_grid), 1))\n",
        "plt.scatter(X, y, color = 'red')\n",
        "plt.plot(X_grid, lin_reg_2.predict(poly_reg.fit_transform(X_grid)), color = 'blue')\n",
        "plt.title('Position vs Salary (Polynomial Regression)')\n",
        "plt.xlabel('Position')\n",
        "plt.ylabel('Salary')\n",
        "plt.show()"
      ],
      "execution_count": null,
      "outputs": [
        {
          "output_type": "display_data",
          "data": {
            "image/png": "[encoded data removed]",
            "text/plain": [
              "<Figure size 432x288 with 1 Axes>"
            ]
          },
          "metadata": {
            "tags": [],
            "needs_background": "light"
          }
        }
      ]
    }
  ]
}