{
  "nbformat": 4,
  "nbformat_minor": 0,
  "metadata": {
    "colab": {
      "provenance": [],
      "toc_visible": true,
      "authorship_tag": "ABX9TyOxy8RJkwL8C+ayznxiWUI8",
      "include_colab_link": true
    },
    "kernelspec": {
      "name": "python3",
      "display_name": "Python 3"
    }
  },
  "cells": [
    {
      "cell_type": "markdown",
      "metadata": {
        "id": "view-in-github",
        "colab_type": "text"
      },
      "source": [
        "<a href=\"https://colab.research.google.com/github/iPranjalSinha/Machine-Learning-Python-Notebooks-/blob/main/1_4_Regression_Support_Vector_for_Regression_(SVR).ipynb\" target=\"_parent\"><img src=\"https://colab.research.google.com/assets/colab-badge.svg\" alt=\"Open In Colab\"/></a>"
      ]
    },
    {
      "cell_type": "markdown",
      "metadata": {
        "id": "9YTT_lZu7zKO"
      },
      "source": [
        "# **Part 1: Data preprocessing**"
      ]
    },
    {
      "cell_type": "markdown",
      "metadata": {
        "id": "PSGuD1JW8Pb8"
      },
      "source": [
        "## 1.1. Importing the libraries"
      ]
    },
    {
      "cell_type": "code",
      "metadata": {
        "id": "WIShcjjP7kLq"
      },
      "source": [
        "import numpy as np\n",
        "import matplotlib.pyplot as plt\n",
        "import pandas as pd"
      ],
      "execution_count": null,
      "outputs": []
    },
    {
      "cell_type": "markdown",
      "metadata": {
        "id": "DkvC1LTL9cB2"
      },
      "source": [
        "## 1.2. Importing the dataset"
      ]
    },
    {
      "cell_type": "code",
      "metadata": {
        "id": "JbsvrtV09Wsn"
      },
      "source": [
        "dataset = pd.read_csv(\"Position_Salaries.csv\")"
      ],
      "execution_count": null,
      "outputs": []
    },
    {
      "cell_type": "markdown",
      "metadata": {
        "id": "NF3qEmdF97Un"
      },
      "source": [
        "## 1.3. Exploring the dataset"
      ]
    },
    {
      "cell_type": "code",
      "metadata": {
        "id": "vHOZ2b-r-usl",
        "outputId": "5e87d0d8-048b-4d58-8114-05a9d8d65cb3",
        "colab": {
          "base_uri": "https://localhost:8080/"
        }
      },
      "source": [
        "print(dataset.head())"
      ],
      "execution_count": null,
      "outputs": [
        {
          "output_type": "stream",
          "text": [
            "            Position  Level  Salary\n",
            "0   Business Analyst      1   45000\n",
            "1  Junior Consultant      2   50000\n",
            "2  Senior Consultant      3   60000\n",
            "3            Manager      4   80000\n",
            "4    Country Manager      5  110000\n"
          ],
          "name": "stdout"
        }
      ]
    },
    {
      "cell_type": "code",
      "metadata": {
        "id": "FliNrjwR-z0y",
        "outputId": "71a897a7-ab81-4051-f8dd-8fb493c9b0f2",
        "colab": {
          "base_uri": "https://localhost:8080/"
        }
      },
      "source": [
        "print(dataset.shape)"
      ],
      "execution_count": null,
      "outputs": [
        {
          "output_type": "stream",
          "text": [
            "(10, 3)\n"
          ],
          "name": "stdout"
        }
      ]
    },
    {
      "cell_type": "code",
      "metadata": {
        "id": "6XAMZpMW-_uM",
        "outputId": "1f126516-1395-4d41-8926-3d24f287fa0d",
        "colab": {
          "base_uri": "https://localhost:8080/"
        }
      },
      "source": [
        "print(dataset.columns)"
      ],
      "execution_count": null,
      "outputs": [
        {
          "output_type": "stream",
          "text": [
            "Index(['Position', 'Level', 'Salary'], dtype='object')\n"
          ],
          "name": "stdout"
        }
      ]
    },
    {
      "cell_type": "markdown",
      "metadata": {
        "id": "vwPeH74i_LTV"
      },
      "source": [
        "## 1.4. Identifying independent variables and dependent variables"
      ]
    },
    {
      "cell_type": "code",
      "metadata": {
        "id": "cJDxb7tt_pex"
      },
      "source": [
        "# Independent variable\n",
        "X = dataset.iloc[:, 1:-1].values\n",
        "\n",
        "# Dependent variable\n",
        "y = dataset.iloc[:, -1].values"
      ],
      "execution_count": null,
      "outputs": []
    },
    {
      "cell_type": "code",
      "metadata": {
        "id": "17R_UPWeqHo_"
      },
      "source": [
        "y = y.reshape(len(y),1)"
      ],
      "execution_count": null,
      "outputs": []
    },
    {
      "cell_type": "markdown",
      "metadata": {
        "id": "_Ygz-_Mg__1c"
      },
      "source": [
        "## 1.5. Handling missing data"
      ]
    },
    {
      "cell_type": "markdown",
      "metadata": {
        "id": "G7bKgr4iAXMI"
      },
      "source": [
        "### 1.5.1. Checking if there is any missing data"
      ]
    },
    {
      "cell_type": "code",
      "metadata": {
        "id": "xZBH9NhrATVF",
        "outputId": "6fcd3b96-d742-4718-ba57-55cd977c94a5",
        "colab": {
          "base_uri": "https://localhost:8080/"
        }
      },
      "source": [
        "print(dataset.isnull().values.any())"
      ],
      "execution_count": null,
      "outputs": [
        {
          "output_type": "stream",
          "text": [
            "False\n"
          ],
          "name": "stdout"
        }
      ]
    },
    {
      "cell_type": "markdown",
      "metadata": {
        "id": "7rXJ0bE_AgoR"
      },
      "source": [
        "### 1.5.2. Handling missing data"
      ]
    },
    {
      "cell_type": "code",
      "metadata": {
        "id": "XiGxO9XUAvdc"
      },
      "source": [
        "# from sklearn.impute import SimpleImputer\n",
        "# imputer = SimpleImputer(missing_values=np.nan, strategy='mean')\n",
        "# imputer.fit(X[:, 1:3])\n",
        "# X[:, 1:3] = imputer.transform(X[:, 1:3])"
      ],
      "execution_count": null,
      "outputs": []
    },
    {
      "cell_type": "markdown",
      "metadata": {
        "id": "Pvx7r8LzA6HR"
      },
      "source": [
        "## 1.6. Encoding categorical data"
      ]
    },
    {
      "cell_type": "code",
      "metadata": {
        "id": "kn3riNnm9Q7Z"
      },
      "source": [
        "# # Encoding the independent variable\n",
        "# from sklearn.compose import ColumnTransformer\n",
        "# from sklearn.preprocessing import OneHotEncoder\n",
        "# ct = ColumnTransformer(transformers=[('encoder', OneHotEncoder(), [0])], remainder='passthrough')\n",
        "# X = np.array(ct.fit_transform(X))"
      ],
      "execution_count": null,
      "outputs": []
    },
    {
      "cell_type": "code",
      "metadata": {
        "id": "Bdyo4-cZBKn6"
      },
      "source": [
        "# # Encoding the dependent variable\n",
        "# from sklearn.preprocessing import LabelEncoder\n",
        "# le = LabelEncoder()\n",
        "# y = le.fit_transform(y)"
      ],
      "execution_count": null,
      "outputs": []
    },
    {
      "cell_type": "markdown",
      "metadata": {
        "id": "qrAi0WtXBkr6"
      },
      "source": [
        "## 1.7. Splitting the dataset into a training set and test set"
      ]
    },
    {
      "cell_type": "code",
      "metadata": {
        "id": "kg_qQVUTBwJ9"
      },
      "source": [
        "# from sklearn.model_selection import train_test_split\n",
        "# X_train, X_test, y_train, y_test = train_test_split(X, y, test_size = 0.2, random_state = 1)"
      ],
      "execution_count": null,
      "outputs": []
    },
    {
      "cell_type": "markdown",
      "metadata": {
        "id": "A9M60MH-CB9G"
      },
      "source": [
        "## 1.8. Feature scaling"
      ]
    },
    {
      "cell_type": "code",
      "metadata": {
        "id": "aMguOmLGCJfQ"
      },
      "source": [
        "from sklearn.preprocessing import StandardScaler\n",
        "sc_X = StandardScaler()\n",
        "X = sc_X.fit_transform(X)\n",
        "\n",
        "sc_y = StandardScaler()\n",
        "y = sc_y.fit_transform(y)\n",
        "\n",
        "# X_train = sc_X.fit_transform(X_train)\n",
        "# y_train = sc_y.fit_transform(y_train)"
      ],
      "execution_count": null,
      "outputs": []
    },
    {
      "cell_type": "markdown",
      "metadata": {
        "id": "tDN2q4psCPDH"
      },
      "source": [
        "# **Part 2: Creating a model**"
      ]
    },
    {
      "cell_type": "markdown",
      "metadata": {
        "id": "knXPmRriCbxX"
      },
      "source": [
        "## 2.1. Training the model on the whole dataset"
      ]
    },
    {
      "cell_type": "code",
      "metadata": {
        "id": "LjhIayo_CaO4",
        "outputId": "baaff1d6-b844-4226-9a72-63c93bff7795",
        "colab": {
          "base_uri": "https://localhost:8080/"
        }
      },
      "source": [
        "from sklearn.svm import SVR\n",
        "regressor = SVR(kernel = 'rbf')\n",
        "regressor.fit(X,y)\n",
        "# regressor.fit(X_train, y_train)"
      ],
      "execution_count": null,
      "outputs": [
        {
          "output_type": "stream",
          "text": [
            "/usr/local/lib/python3.6/dist-packages/sklearn/utils/validation.py:760: DataConversionWarning: A column-vector y was passed when a 1d array was expected. Please change the shape of y to (n_samples, ), for example using ravel().\n",
            "  y = column_or_1d(y, warn=True)\n"
          ],
          "name": "stderr"
        },
        {
          "output_type": "execute_result",
          "data": {
            "text/plain": [
              "SVR(C=1.0, cache_size=200, coef0=0.0, degree=3, epsilon=0.1, gamma='scale',\n",
              "    kernel='rbf', max_iter=-1, shrinking=True, tol=0.001, verbose=False)"
            ]
          },
          "metadata": {
            "tags": []
          },
          "execution_count": 14
        }
      ]
    },
    {
      "cell_type": "markdown",
      "metadata": {
        "id": "7rIbMv0qTkTi"
      },
      "source": [
        "## 2.2. Predicting the test set results"
      ]
    },
    {
      "cell_type": "code",
      "metadata": {
        "id": "E3tDZm6fTp0I"
      },
      "source": [
        "# y_pred = sc_y.inverse_transform(regressor.predict(sc_X.transform(X_test)))"
      ],
      "execution_count": null,
      "outputs": []
    },
    {
      "cell_type": "code",
      "metadata": {
        "id": "jsvCHKMNTq6B"
      },
      "source": [
        "# np.set_printoptions(precision=2)\n",
        "# print(np.concatenate((y_pred.reshape(len(y_pred),1), y_test.reshape(len(y_test),1)),1))"
      ],
      "execution_count": null,
      "outputs": []
    },
    {
      "cell_type": "markdown",
      "metadata": {
        "id": "qP9smpChCpYk"
      },
      "source": [
        "## 2.2. Predicting a new result"
      ]
    },
    {
      "cell_type": "code",
      "metadata": {
        "id": "IKFjV-n-C05p",
        "outputId": "2726f854-6e16-491b-dad4-30fbbd1fe156",
        "colab": {
          "base_uri": "https://localhost:8080/"
        }
      },
      "source": [
        "sc_y.inverse_transform(regressor.predict(sc_X.transform([[6.5]])))"
      ],
      "execution_count": null,
      "outputs": [
        {
          "output_type": "execute_result",
          "data": {
            "text/plain": [
              "array([170370.0204065])"
            ]
          },
          "metadata": {
            "tags": []
          },
          "execution_count": 17
        }
      ]
    },
    {
      "cell_type": "markdown",
      "metadata": {
        "id": "OWCzNx4iC2S0"
      },
      "source": [
        "# **Part 3: Visualizing the results**"
      ]
    },
    {
      "cell_type": "markdown",
      "metadata": {
        "id": "YYZURaKKDN2J"
      },
      "source": [
        "## 3.1. Visualizing the results"
      ]
    },
    {
      "cell_type": "code",
      "metadata": {
        "id": "9d9-fpp-DcoU",
        "outputId": "f1f44f95-237f-4794-b59f-65972661b64a",
        "colab": {
          "base_uri": "https://localhost:8080/",
          "height": 295
        }
      },
      "source": [
        "X_grid = np.arange(min(sc_X.inverse_transform(X)), max(sc_X.inverse_transform(X)), 0.1)\n",
        "X_grid = X_grid.reshape((len(X_grid), 1))\n",
        "plt.scatter(sc_X.inverse_transform(X), sc_y.inverse_transform(y), color = 'red')\n",
        "plt.plot(X_grid, sc_y.inverse_transform(regressor.predict(sc_X.transform(X_grid))), color = 'blue')\n",
        "plt.title('Position vs Salary (Support Vector for Regression (SVR))')\n",
        "plt.xlabel('Position')\n",
        "plt.ylabel('Salary')\n",
        "plt.show()"
      ],
      "execution_count": null,
      "outputs": [
        {
          "output_type": "display_data",
          "data": {
            "image/png": "[encoded data removed]",
            "text/plain": [
              "<Figure size 432x288 with 1 Axes>"
            ]
          },
          "metadata": {
            "tags": [],
            "needs_background": "light"
          }
        }
      ]
    },
    {
      "cell_type": "markdown",
      "metadata": {
        "id": "8bvtPlKFTzH8"
      },
      "source": [
        "# **Part 4: Evaluating model's performance**"
      ]
    },
    {
      "cell_type": "markdown",
      "metadata": {
        "id": "vnf5BmBpUFgk"
      },
      "source": [
        "## 4.1. R-Squared Score"
      ]
    },
    {
      "cell_type": "code",
      "metadata": {
        "id": "9Gn9mbsxT5o7"
      },
      "source": [
        "# from sklearn.metrics import r2_score\n",
        "# r2_score(y_test, y_pred)"
      ],
      "execution_count": null,
      "outputs": []
    }
  ]
}